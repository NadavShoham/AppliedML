{
 "cells": [
  {
   "cell_type": "code",
   "execution_count": 48,
   "metadata": {
    "collapsed": true,
    "id": "y0qrdbIabwr_",
    "executionInfo": {
     "status": "ok",
     "timestamp": 1679748671372,
     "user_tz": -180,
     "elapsed": 282,
     "user": {
      "displayName": "Nadav Shoham",
      "userId": "09594726308056537091"
     }
    }
   },
   "outputs": [],
   "source": [
    "from sklearn.model_selection import train_test_split\n",
    "from sklearn.linear_model import LinearRegression\n",
    "from sklearn.metrics import mean_absolute_error\n",
    "from sklearn.preprocessing import MinMaxScaler\n",
    "import matplotlib.pyplot as plt\n",
    "import pandas as pd\n",
    "import random\n",
    "import itertools\n",
    "from pmlb import fetch_data"
   ]
  },
  {
   "cell_type": "code",
   "execution_count": 57,
   "outputs": [
    {
     "output_type": "stream",
     "name": "stdout",
     "text": [
      "X shape: (3848, 4)\n",
      "y shape: (3848,)\n",
      "example of sample: \n",
      "RIDGE     -2.3482\n",
      "NUB        3.6314\n",
      "CRACK      5.0289\n",
      "WEIGHT    10.8721\n",
      "Name: 0, dtype: float64\n",
      "example of label: -1.385200023651123\n",
      "example of sample: \n",
      "[0.46845972 0.59506176 0.59033578 0.64302099]\n"
     ]
    }
   ],
   "source": [
    "# TODO: need to better understand the results we got:\n",
    "# 1. why are the values of the accuracy ranges from 1-3\n",
    "# 2. what other type of analysis do we need?\n",
    "# 3. do we need to normalize like we did so far or another way\n",
    "# 4. notice topics mentioned in task such as variance, scales, range etc...\n",
    "\n",
    "data = fetch_data(dataset_name=\"529_pollen\")\n",
    "\n",
    "# extract ccolumn names row\n",
    "column_names = data.iloc[0]\n",
    "# data = data[1:]\n",
    "\n",
    "# extract labels vector y\n",
    "y = data[\"target\"]\n",
    "X = data.drop(columns=['target'])\n",
    "\n",
    "# dimension of the data\n",
    "print(f\"X shape: {X.shape}\")\n",
    "print(f\"y shape: {y.shape}\")\n",
    "\n",
    "# print a sample and label\n",
    "print(f\"example of sample: \\n{X.iloc[0]}\")\n",
    "print(f\"example of label: {y.iloc[0]}\")\n",
    "\n",
    "#normalize\n",
    "min_max_scaler = MinMaxScaler()\n",
    "X = min_max_scaler.fit_transform(X)\n",
    "print(f\"example of sample: \\n{X[0]}\")"
   ],
   "metadata": {
    "colab": {
     "base_uri": "https://localhost:8080/"
    },
    "id": "2rZWPZ0vbwsD",
    "executionInfo": {
     "status": "ok",
     "timestamp": 1679749154570,
     "user_tz": -180,
     "elapsed": 1371,
     "user": {
      "displayName": "Nadav Shoham",
      "userId": "09594726308056537091"
     }
    },
    "outputId": "c2aa23a8-e504-4888-befa-55e70559b5d0"
   }
  },
  {
   "cell_type": "code",
   "source": [
    "ratios = [0.1 * r for r in range(1, 9)]\n",
    "accuracies = []\n",
    "for r in ratios:\n",
    "    X_train, X_test, y_train, y_test = train_test_split(X, y, test_size=r, random_state=1)\n",
    "    regressor = LinearRegression()\n",
    "    regressor.fit(X_train, y_train)\n",
    "    y_pred = regressor.predict(X_test)\n",
    "    accuracies.append(mean_absolute_error(y_test, y_pred))\n",
    "plt.plot(ratios, accuracies)\n",
    "plt.xlabel(\"test-train ratio\")\n",
    "plt.ylabel(\"mean squared error\")\n",
    "plt.title(\"mean squared error vs test-train ratio\")\n",
    "plt.show()"
   ],
   "metadata": {
    "colab": {
     "base_uri": "https://localhost:8080/",
     "height": 295
    },
    "id": "NsL3YCD6cnrL",
    "executionInfo": {
     "status": "ok",
     "timestamp": 1679748993561,
     "user_tz": -180,
     "elapsed": 746,
     "user": {
      "displayName": "Nadav Shoham",
      "userId": "09594726308056537091"
     }
    },
    "outputId": "c73ce21f-6383-407f-aa43-a3e82014cee5"
   },
   "execution_count": 55,
   "outputs": [
    {
     "output_type": "display_data",
     "data": {
      "text/plain": [
       "<Figure size 432x288 with 1 Axes>"
      ],
      "image/png": "[encoded data removed]"
     },
     "metadata": {
      "needs_background": "light"
     }
    }
   ]
  },
  {
   "cell_type": "code",
   "source": [
    "# a function that gets train-set, test-set and k and returns the k-features from the dataset that achieve the highest accuracy\n",
    "def get_k_best_features(X_train, X_test, y_train, y_test, k):\n",
    "    indices_accuracy_dict = {}\n",
    "    # generate all subsets of k features\n",
    "    for subset in itertools.combinations(X_train.columns, k):\n",
    "        regressor = LinearRegression()\n",
    "        regressor.fit(X_train[list(subset)], y_train)\n",
    "        y_pred = regressor.predict(X_test[list(subset)])\n",
    "        indices_accuracy_dict[subset] = mean_absolute_error(y_test, y_pred)\n",
    "    # return the subset and accuracy with the highest accuracy\n",
    "    best_subset = max(indices_accuracy_dict, key=indices_accuracy_dict.get)\n",
    "    return best_subset, indices_accuracy_dict[best_subset]"
   ],
   "metadata": {
    "id": "IKCB6_zZctkx",
    "executionInfo": {
     "status": "ok",
     "timestamp": 1679748396938,
     "user_tz": -180,
     "elapsed": 32,
     "user": {
      "displayName": "Nadav Shoham",
      "userId": "09594726308056537091"
     }
    }
   },
   "execution_count": 45,
   "outputs": []
  },
  {
   "cell_type": "code",
   "source": [
    "X_train, X_test, y_train, y_test = train_test_split(X, y, test_size=0.2, random_state=1)\n",
    "best_subset, best_accuracy = get_k_best_features(X_train, X_test, y_train, y_test, 2)\n",
    "print(f\"best subset: {best_subset}, accuracy: {best_accuracy}\")"
   ],
   "metadata": {
    "colab": {
     "base_uri": "https://localhost:8080/"
    },
    "id": "xC6g1m5JcuFr",
    "executionInfo": {
     "status": "ok",
     "timestamp": 1679748396941,
     "user_tz": -180,
     "elapsed": 31,
     "user": {
      "displayName": "Nadav Shoham",
      "userId": "09594726308056537091"
     }
    },
    "outputId": "e79b7a39-71d3-42ed-8ca9-25ca1a4c225f"
   },
   "execution_count": 46,
   "outputs": [
    {
     "output_type": "stream",
     "name": "stdout",
     "text": [
      "best subset: ('CRACK', 'WEIGHT'), accuracy: 2.4131194419677677\n"
     ]
    }
   ]
  },
  {
   "cell_type": "code",
   "source": [
    "best_subset, best_accuracy = get_k_best_features(X_train, X_test, y_train, y_test, 3)\n",
    "print(f\"best subset: {best_subset}, accuracy: {best_accuracy}\")"
   ],
   "metadata": {
    "colab": {
     "base_uri": "https://localhost:8080/"
    },
    "id": "Efp32kcnzOiz",
    "executionInfo": {
     "status": "ok",
     "timestamp": 1679748396941,
     "user_tz": -180,
     "elapsed": 26,
     "user": {
      "displayName": "Nadav Shoham",
      "userId": "09594726308056537091"
     }
    },
    "outputId": "fedf6a59-5225-4a35-ce85-dccde9f4e805"
   },
   "execution_count": 47,
   "outputs": [
    {
     "output_type": "stream",
     "name": "stdout",
     "text": [
      "best subset: ('NUB', 'CRACK', 'WEIGHT'), accuracy: 2.2050431788822933\n"
     ]
    }
   ]
  }
 ],
 "metadata": {
  "kernelspec": {
   "display_name": "Python 3",
   "language": "python",
   "name": "python3"
  },
  "language_info": {
   "codemirror_mode": {
    "name": "ipython",
    "version": 2
   },
   "file_extension": ".py",
   "mimetype": "text/x-python",
   "name": "python",
   "nbconvert_exporter": "python",
   "pygments_lexer": "ipython2",
   "version": "2.7.6"
  },
  "colab": {
   "provenance": []
  }
 },
 "nbformat": 4,
 "nbformat_minor": 0
}
